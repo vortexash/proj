{
 "cells": [
  {
   "cell_type": "code",
   "execution_count": 48,
   "metadata": {},
   "outputs": [
    {
     "name": "stderr",
     "output_type": "stream",
     "text": [
      "[nltk_data] Downloading package punkt to\n",
      "[nltk_data]     C:\\Users\\trell\\AppData\\Roaming\\nltk_data...\n",
      "[nltk_data]   Package punkt is already up-to-date!\n"
     ]
    }
   ],
   "source": [
    "import pandas as pd\n",
    "import numpy as np\n",
    "import matplotlib.pyplot as plt\n",
    "import nltk\n",
    "from nltk.tokenize import sent_tokenize\n",
    "nltk.download('punkt') # one time execution\n",
    "import re\n",
    "%matplotlib inline"
   ]
  },
  {
   "cell_type": "code",
   "execution_count": 12,
   "metadata": {},
   "outputs": [
    {
     "name": "stdout",
     "output_type": "stream",
     "text": [
      "Collecting feedparser\n",
      "  Downloading https://files.pythonhosted.org/packages/91/d8/7d37fec71ff7c9dbcdd80d2b48bcdd86d6af502156fc93846fb0102cb2c4/feedparser-5.2.1.tar.bz2 (192kB)\n",
      "Building wheels for collected packages: feedparser\n",
      "  Building wheel for feedparser (setup.py): started\n",
      "  Building wheel for feedparser (setup.py): finished with status 'done'\n",
      "  Created wheel for feedparser: filename=feedparser-5.2.1-cp37-none-any.whl size=44944 sha256=3abf61598f6f6b179cffc64ad17c04afac16263a50b87ca7be5e95af99918d87\n",
      "  Stored in directory: C:\\Users\\trell\\AppData\\Local\\pip\\Cache\\wheels\\8c\\69\\b7\\f52763c41c5471df57703a0ef718a32a5e81ee35dcf6d4f97f\n",
      "Successfully built feedparser\n",
      "Installing collected packages: feedparser\n",
      "Successfully installed feedparser-5.2.1\n"
     ]
    }
   ],
   "source": [
    "! pip install feedparser"
   ]
  },
  {
   "cell_type": "code",
   "execution_count": 35,
   "metadata": {},
   "outputs": [
    {
     "name": "stdout",
     "output_type": "stream",
     "text": [
      "After a fiery overnight stand-off, some protesters try to leave but police react with tear gas.\n"
     ]
    }
   ],
   "source": [
    "print(df[\"summary\"].values[0])"
   ]
  },
  {
   "cell_type": "code",
   "execution_count": 45,
   "metadata": {},
   "outputs": [],
   "source": [
    "posts = []\n",
    "for url in rawrss:\n",
    "    feed = feedparser.parse(\"https://timesofindia.indiatimes.com/rssfeedstopstories.cms\")\n",
    "    for post in feed.entries:\n",
    "        posts.append((post.title, post.link, post.summary))"
   ]
  },
  {
   "cell_type": "code",
   "execution_count": 46,
   "metadata": {},
   "outputs": [],
   "source": [
    "df = pd.DataFrame(posts, columns=['title', 'link', 'summary'])"
   ]
  },
  {
   "cell_type": "code",
   "execution_count": 47,
   "metadata": {},
   "outputs": [
    {
     "data": {
      "text/html": [
       "<div>\n",
       "<style scoped>\n",
       "    .dataframe tbody tr th:only-of-type {\n",
       "        vertical-align: middle;\n",
       "    }\n",
       "\n",
       "    .dataframe tbody tr th {\n",
       "        vertical-align: top;\n",
       "    }\n",
       "\n",
       "    .dataframe thead th {\n",
       "        text-align: right;\n",
       "    }\n",
       "</style>\n",
       "<table border=\"1\" class=\"dataframe\">\n",
       "  <thead>\n",
       "    <tr style=\"text-align: right;\">\n",
       "      <th></th>\n",
       "      <th>title</th>\n",
       "      <th>link</th>\n",
       "      <th>summary</th>\n",
       "    </tr>\n",
       "  </thead>\n",
       "  <tbody>\n",
       "    <tr>\n",
       "      <td>0</td>\n",
       "      <td>People's hearts can be won without rushing to ...</td>\n",
       "      <td>https://timesofindia.indiatimes.com/india/dist...</td>\n",
       "      <td>With disruptions in Rajya Sabha in the past hi...</td>\n",
       "    </tr>\n",
       "    <tr>\n",
       "      <td>1</td>\n",
       "      <td>Pawar: Sena, BJP have to choose their paths</td>\n",
       "      <td>https://timesofindia.indiatimes.com/india/shar...</td>\n",
       "      <td>Speaking to media in Parliament, Nationalist C...</td>\n",
       "    </tr>\n",
       "    <tr>\n",
       "      <td>2</td>\n",
       "      <td>JNU protest live: 3 metro stations in Delhi shut</td>\n",
       "      <td>https://timesofindia.indiatimes.com/city/delhi...</td>\n",
       "      <td>Delhi Police on Monday stopped hundreds of JNU...</td>\n",
       "    </tr>\n",
       "    <tr>\n",
       "      <td>3</td>\n",
       "      <td>Live: Sharad Pawar meets Sonia at her residence</td>\n",
       "      <td>https://timesofindia.indiatimes.com/india/maha...</td>\n",
       "      <td>More than 20 days after declaration of electio...</td>\n",
       "    </tr>\n",
       "    <tr>\n",
       "      <td>4</td>\n",
       "      <td>People's hearts can be won without rushing to ...</td>\n",
       "      <td>https://timesofindia.indiatimes.com/india/dist...</td>\n",
       "      <td>With disruptions in Rajya Sabha in the past hi...</td>\n",
       "    </tr>\n",
       "  </tbody>\n",
       "</table>\n",
       "</div>"
      ],
      "text/plain": [
       "                                               title  \\\n",
       "0  People's hearts can be won without rushing to ...   \n",
       "1        Pawar: Sena, BJP have to choose their paths   \n",
       "2   JNU protest live: 3 metro stations in Delhi shut   \n",
       "3    Live: Sharad Pawar meets Sonia at her residence   \n",
       "4  People's hearts can be won without rushing to ...   \n",
       "\n",
       "                                                link  \\\n",
       "0  https://timesofindia.indiatimes.com/india/dist...   \n",
       "1  https://timesofindia.indiatimes.com/india/shar...   \n",
       "2  https://timesofindia.indiatimes.com/city/delhi...   \n",
       "3  https://timesofindia.indiatimes.com/india/maha...   \n",
       "4  https://timesofindia.indiatimes.com/india/dist...   \n",
       "\n",
       "                                             summary  \n",
       "0  With disruptions in Rajya Sabha in the past hi...  \n",
       "1  Speaking to media in Parliament, Nationalist C...  \n",
       "2  Delhi Police on Monday stopped hundreds of JNU...  \n",
       "3  More than 20 days after declaration of electio...  \n",
       "4  With disruptions in Rajya Sabha in the past hi...  "
      ]
     },
     "execution_count": 47,
     "metadata": {},
     "output_type": "execute_result"
    }
   ],
   "source": [
    "df.head()"
   ]
  },
  {
   "cell_type": "code",
   "execution_count": 44,
   "metadata": {},
   "outputs": [
    {
     "name": "stdout",
     "output_type": "stream",
     "text": [
      "With disruptions in Rajya Sabha in the past hindering passage of legislations, PM Modi on Monday said the Upper House was essential for checks and balance in democracy but a distinction needs to be drawn between checking and clogging. Speaking on the occasion of 250th session of Rajya Sabha, he lauded the NCP and the BJD for never rushing to the well of the House.\n"
     ]
    }
   ],
   "source": [
    "print(df[\"summary\"].values[0])"
   ]
  },
  {
   "cell_type": "code",
   "execution_count": 49,
   "metadata": {},
   "outputs": [],
   "source": [
    "# split the the text in the articles into sentences\n",
    "sentences = []\n",
    "for s in df['summary']:\n",
    "  sentences.append(sent_tokenize(s)) "
   ]
  },
  {
   "cell_type": "code",
   "execution_count": 50,
   "metadata": {},
   "outputs": [],
   "source": [
    "# flatten the list\n",
    "sentences = [y for x in sentences for y in x]"
   ]
  },
  {
   "cell_type": "code",
   "execution_count": 51,
   "metadata": {},
   "outputs": [],
   "source": [
    "# remove punctuations, numbers and special characters\n",
    "clean_sentences = pd.Series(sentences).str.replace(\"[^a-zA-Z]\", \" \")\n",
    "\n",
    "# make alphabets lowercase\n",
    "clean_sentences = [s.lower() for s in clean_sentences]"
   ]
  },
  {
   "cell_type": "code",
   "execution_count": 52,
   "metadata": {},
   "outputs": [
    {
     "name": "stderr",
     "output_type": "stream",
     "text": [
      "[nltk_data] Downloading package stopwords to\n",
      "[nltk_data]     C:\\Users\\trell\\AppData\\Roaming\\nltk_data...\n",
      "[nltk_data]   Package stopwords is already up-to-date!\n"
     ]
    },
    {
     "data": {
      "text/plain": [
       "True"
      ]
     },
     "execution_count": 52,
     "metadata": {},
     "output_type": "execute_result"
    }
   ],
   "source": [
    "nltk.download('stopwords')"
   ]
  },
  {
   "cell_type": "code",
   "execution_count": 53,
   "metadata": {},
   "outputs": [],
   "source": [
    "from nltk.corpus import stopwords\n",
    "stop_words = stopwords.words('english')"
   ]
  },
  {
   "cell_type": "code",
   "execution_count": 54,
   "metadata": {},
   "outputs": [],
   "source": [
    "# function to remove stopwords\n",
    "def remove_stopwords(sen):\n",
    "  sen_new = \" \".join([i for i in sen if i not in stop_words])\n",
    "  return sen_new"
   ]
  },
  {
   "cell_type": "code",
   "execution_count": 55,
   "metadata": {},
   "outputs": [],
   "source": [
    "# remove stopwords from the sentences\n",
    "clean_sentences = [remove_stopwords(r.split()) for r in clean_sentences]"
   ]
  },
  {
   "cell_type": "code",
   "execution_count": 61,
   "metadata": {},
   "outputs": [],
   "source": [
    "# Extract word vectors\n",
    "word_embeddings = {}\n",
    "f = open('glove.6B.100d.txt', encoding='utf-8')\n",
    "for line in f:\n",
    "    values = line.split()\n",
    "    word = values[0]\n",
    "    coefs = np.asarray(values[1:], dtype='float32')\n",
    "    word_embeddings[word] = coefs\n",
    "f.close()"
   ]
  },
  {
   "cell_type": "code",
   "execution_count": 63,
   "metadata": {},
   "outputs": [],
   "source": [
    "sentence_vectors = []\n",
    "for i in clean_sentences:\n",
    "    if len(i) != 0:\n",
    "        v = sum([word_embeddings.get(w, np.zeros((100,))) for w in i.split()])/(len(i.split())+0.001)\n",
    "    else:\n",
    "        v = np.zeros((100,))\n",
    "    sentence_vectors.append(v)"
   ]
  },
  {
   "cell_type": "code",
   "execution_count": 64,
   "metadata": {},
   "outputs": [
    {
     "data": {
      "text/plain": [
       "44"
      ]
     },
     "execution_count": 64,
     "metadata": {},
     "output_type": "execute_result"
    }
   ],
   "source": [
    "len(sentence_vectors)"
   ]
  },
  {
   "cell_type": "code",
   "execution_count": 65,
   "metadata": {},
   "outputs": [],
   "source": [
    "# similarity matrix\n",
    "sim_mat = np.zeros([len(sentences), len(sentences)])"
   ]
  },
  {
   "cell_type": "code",
   "execution_count": 66,
   "metadata": {},
   "outputs": [],
   "source": [
    "from sklearn.metrics.pairwise import cosine_similarity"
   ]
  },
  {
   "cell_type": "code",
   "execution_count": 67,
   "metadata": {},
   "outputs": [],
   "source": [
    "for i in range(len(sentences)):\n",
    "  for j in range(len(sentences)):\n",
    "    if i != j:\n",
    "      sim_mat[i][j] = cosine_similarity(sentence_vectors[i].reshape(1,100), sentence_vectors[j].reshape(1,100))[0,0]"
   ]
  },
  {
   "cell_type": "code",
   "execution_count": 68,
   "metadata": {},
   "outputs": [],
   "source": [
    "import networkx as nx\n",
    "\n",
    "nx_graph = nx.from_numpy_array(sim_mat)\n",
    "scores = nx.pagerank(nx_graph)"
   ]
  },
  {
   "cell_type": "code",
   "execution_count": 69,
   "metadata": {},
   "outputs": [],
   "source": [
    "ranked_sentences = sorted(((scores[i],s) for i,s in enumerate(sentences)), reverse=True)"
   ]
  },
  {
   "cell_type": "code",
   "execution_count": 76,
   "metadata": {},
   "outputs": [
    {
     "name": "stdout",
     "output_type": "stream",
     "text": [
      "More than 20 days after declaration of election results, there is still no government in Maharashtra.\n",
      "More than 20 days after declaration of election results, there is still no government in Maharashtra.\n",
      "More than 20 days after declaration of election results, there is still no government in Maharashtra.\n",
      "More than 20 days after declaration of election results, there is still no government in Maharashtra.\n",
      "He said he will meet Sonia Gandhi later in the day at her residence.\n",
      "He said he will meet Sonia Gandhi later in the day at her residence.\n",
      "He said he will meet Sonia Gandhi later in the day at her residence.\n",
      "He said he will meet Sonia Gandhi later in the day at her residence.\n",
      "With disruptions in Rajya Sabha in the past hindering passage of legislations, PM Modi on Monday said the Upper House was essential for checks and balance in democracy but a distinction needs to be drawn between checking and clogging.\n",
      "With disruptions in Rajya Sabha in the past hindering passage of legislations, PM Modi on Monday said the Upper House was essential for checks and balance in democracy but a distinction needs to be drawn between checking and clogging.\n",
      "With disruptions in Rajya Sabha in the past hindering passage of legislations, PM Modi on Monday said the Upper House was essential for checks and balance in democracy but a distinction needs to be drawn between checking and clogging.\n",
      "With disruptions in Rajya Sabha in the past hindering passage of legislations, PM Modi on Monday said the Upper House was essential for checks and balance in democracy but a distinction needs to be drawn between checking and clogging.\n",
      "Delhi Police on Monday stopped hundreds of JNU students from continuing with their protest march to Parliament by putting up barricades.\n",
      "Delhi Police on Monday stopped hundreds of JNU students from continuing with their protest march to Parliament by putting up barricades.\n",
      "Delhi Police on Monday stopped hundreds of JNU students from continuing with their protest march to Parliament by putting up barricades.\n",
      "Delhi Police on Monday stopped hundreds of JNU students from continuing with their protest march to Parliament by putting up barricades.\n",
      "Speaking to media in Parliament, Nationalist Congress Party supremo Sharad Pawar said that the BJP and Shiv Sena had fought the elections together and \"they have to choose their paths\".\n",
      "Speaking to media in Parliament, Nationalist Congress Party supremo Sharad Pawar said that the BJP and Shiv Sena had fought the elections together and \"they have to choose their paths\".\n",
      "Speaking to media in Parliament, Nationalist Congress Party supremo Sharad Pawar said that the BJP and Shiv Sena had fought the elections together and \"they have to choose their paths\".\n",
      "Speaking to media in Parliament, Nationalist Congress Party supremo Sharad Pawar said that the BJP and Shiv Sena had fought the elections together and \"they have to choose their paths\".\n",
      "Speaking on the occasion of 250th session of Rajya Sabha, he lauded the NCP and the BJD for never rushing to the well of the House.\n",
      "Speaking on the occasion of 250th session of Rajya Sabha, he lauded the NCP and the BJD for never rushing to the well of the House.\n"
     ]
    }
   ],
   "source": [
    "# Specify number of sentences to form the summary\n",
    "sn =22\n",
    "\n",
    "# Generate summary\n",
    "for i in range(sn):\n",
    "  print(ranked_sentences[i][1])"
   ]
  },
  {
   "cell_type": "code",
   "execution_count": null,
   "metadata": {},
   "outputs": [],
   "source": []
  }
 ],
 "metadata": {
  "kernelspec": {
   "display_name": "Python 3",
   "language": "python",
   "name": "python3"
  },
  "language_info": {
   "codemirror_mode": {
    "name": "ipython",
    "version": 3
   },
   "file_extension": ".py",
   "mimetype": "text/x-python",
   "name": "python",
   "nbconvert_exporter": "python",
   "pygments_lexer": "ipython3",
   "version": "3.7.4"
  }
 },
 "nbformat": 4,
 "nbformat_minor": 2
}
